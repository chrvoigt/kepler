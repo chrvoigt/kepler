{
 "cells": [
  {
   "cell_type": "raw",
   "metadata": {},
   "source": [
    "Initial reading\n",
    "https://www.analyticsvidhya.com/blog/2020/06/learn-visualize-geospatial-data-jupyter-kepler/\n",
    "\n",
    "Kepler in Notebook \n",
    "https://docs.kepler.gl/docs/keplergl-jupyter"
   ]
  },
  {
   "cell_type": "code",
   "execution_count": 1,
   "metadata": {},
   "outputs": [],
   "source": [
    "import pandas as pd\n",
    "import numpy as np\n",
    "df=pd.read_csv('data.csv', sep=';')\n",
    "\n"
   ]
  },
  {
   "cell_type": "code",
   "execution_count": 2,
   "metadata": {},
   "outputs": [],
   "source": [
    "# disable chained assignments\n",
    "pd.options.mode.chained_assignment = None \n",
    "for i in range(len(df.Longitude)): \n",
    "    df.Longitude.loc[i] = df.Longitude.loc[i][0:6] + df.Longitude.loc[i][7:10]\n",
    "    df.Latitude.loc[i] = df.Latitude.loc[i][0:6] + df.Latitude.loc[i][7:10]"
   ]
  },
  {
   "cell_type": "code",
   "execution_count": 3,
   "metadata": {},
   "outputs": [
    {
     "name": "stdout",
     "output_type": "stream",
     "text": [
      "Date           int64\n",
      "Time          object\n",
      "Raw_Time       int64\n",
      "Latitude      object\n",
      "Longitude     object\n",
      "Altitude     float64\n",
      "Sats           int64\n",
      "Sat_Speed    float64\n",
      "Precision    float64\n",
      "dtype: object\n"
     ]
    },
    {
     "data": {
      "text/html": [
       "<div>\n",
       "<style scoped>\n",
       "    .dataframe tbody tr th:only-of-type {\n",
       "        vertical-align: middle;\n",
       "    }\n",
       "\n",
       "    .dataframe tbody tr th {\n",
       "        vertical-align: top;\n",
       "    }\n",
       "\n",
       "    .dataframe thead th {\n",
       "        text-align: right;\n",
       "    }\n",
       "</style>\n",
       "<table border=\"1\" class=\"dataframe\">\n",
       "  <thead>\n",
       "    <tr style=\"text-align: right;\">\n",
       "      <th></th>\n",
       "      <th>Date</th>\n",
       "      <th>Time</th>\n",
       "      <th>Raw_Time</th>\n",
       "      <th>Latitude</th>\n",
       "      <th>Longitude</th>\n",
       "      <th>Altitude</th>\n",
       "      <th>Sats</th>\n",
       "      <th>Sat_Speed</th>\n",
       "      <th>Precision</th>\n",
       "    </tr>\n",
       "  </thead>\n",
       "  <tbody>\n",
       "    <tr>\n",
       "      <th>1331</th>\n",
       "      <td>160220</td>\n",
       "      <td>12:42:37</td>\n",
       "      <td>11423700</td>\n",
       "      <td>48.220701</td>\n",
       "      <td>16.375173</td>\n",
       "      <td>167.5</td>\n",
       "      <td>8</td>\n",
       "      <td>4.7411</td>\n",
       "      <td>1.29</td>\n",
       "    </tr>\n",
       "    <tr>\n",
       "      <th>1332</th>\n",
       "      <td>160220</td>\n",
       "      <td>12:42:40</td>\n",
       "      <td>11424000</td>\n",
       "      <td>48.220691</td>\n",
       "      <td>16.375173</td>\n",
       "      <td>167.2</td>\n",
       "      <td>9</td>\n",
       "      <td>0.2778</td>\n",
       "      <td>1.29</td>\n",
       "    </tr>\n",
       "    <tr>\n",
       "      <th>1333</th>\n",
       "      <td>160220</td>\n",
       "      <td>12:42:43</td>\n",
       "      <td>11424300</td>\n",
       "      <td>48.220686</td>\n",
       "      <td>16.375182</td>\n",
       "      <td>166.6</td>\n",
       "      <td>8</td>\n",
       "      <td>0.3889</td>\n",
       "      <td>1.26</td>\n",
       "    </tr>\n",
       "  </tbody>\n",
       "</table>\n",
       "</div>"
      ],
      "text/plain": [
       "        Date      Time  Raw_Time   Latitude  Longitude  Altitude  Sats  \\\n",
       "1331  160220  12:42:37  11423700  48.220701  16.375173     167.5     8   \n",
       "1332  160220  12:42:40  11424000  48.220691  16.375173     167.2     9   \n",
       "1333  160220  12:42:43  11424300  48.220686  16.375182     166.6     8   \n",
       "\n",
       "      Sat_Speed  Precision  \n",
       "1331     4.7411       1.29  \n",
       "1332     0.2778       1.29  \n",
       "1333     0.3889       1.26  "
      ]
     },
     "execution_count": 3,
     "metadata": {},
     "output_type": "execute_result"
    }
   ],
   "source": [
    "#df = df.set_index('Time')\n",
    "print (df.dtypes)\n",
    "df.tail(3)"
   ]
  },
  {
   "cell_type": "code",
   "execution_count": 4,
   "metadata": {},
   "outputs": [
    {
     "data": {
      "text/plain": [
       "Date           int64\n",
       "Time          object\n",
       "Raw_Time       int64\n",
       "Latitude     float64\n",
       "Longitude    float64\n",
       "Altitude     float64\n",
       "Sats           int64\n",
       "Sat_Speed    float64\n",
       "Precision    float64\n",
       "dtype: object"
      ]
     },
     "execution_count": 4,
     "metadata": {},
     "output_type": "execute_result"
    }
   ],
   "source": [
    "df = df.apply(pd.to_numeric, errors='ignore')\n",
    "df.dtypes"
   ]
  },
  {
   "cell_type": "code",
   "execution_count": 5,
   "metadata": {},
   "outputs": [],
   "source": [
    "df.to_csv('data_formated.csv')\n",
    "# df.to_csv('data_formated.csv', encoding='utf-8')"
   ]
  },
  {
   "cell_type": "code",
   "execution_count": 6,
   "metadata": {},
   "outputs": [
    {
     "name": "stdout",
     "output_type": "stream",
     "text": [
      "Config loaded!\n"
     ]
    }
   ],
   "source": [
    "import os.path\n",
    "if os.path.isfile('./map_config.py'):\n",
    "    print('Config loaded!')\n",
    "    %run map_config.py"
   ]
  },
  {
   "cell_type": "code",
   "execution_count": 28,
   "metadata": {},
   "outputs": [
    {
     "name": "stdout",
     "output_type": "stream",
     "text": [
      "User Guide: https://docs.kepler.gl/docs/keplergl-jupyter\n",
      "User Guide: https://docs.kepler.gl/docs/keplergl-jupyter\n"
     ]
    }
   ],
   "source": [
    "import keplergl\n",
    "map_csv=keplergl.KeplerGl(height=400)\n",
    "map_df=keplergl.KeplerGl(height=400)"
   ]
  },
  {
   "cell_type": "code",
   "execution_count": 30,
   "metadata": {},
   "outputs": [
    {
     "data": {
      "application/vnd.jupyter.widget-view+json": {
       "model_id": "4fd962b5365c4d248b618c894d118f64",
       "version_major": 2,
       "version_minor": 0
      },
      "text/plain": [
       "KeplerGl(config={'version': 'v1', 'config': {'visState': {'filters': [], 'layers': [{'id': 'fh2p87', 'type': '…"
      ]
     },
     "metadata": {},
     "output_type": "display_data"
    }
   ],
   "source": [
    "# DataFrame\n",
    "map_df.add_data(data=df, name='vienna_df')\n",
    "# map_df.config = config\n",
    "map_df"
   ]
  },
  {
   "cell_type": "code",
   "execution_count": 10,
   "metadata": {},
   "outputs": [
    {
     "name": "stdout",
     "output_type": "stream",
     "text": [
      "97.32 Minutes\n"
     ]
    }
   ],
   "source": [
    "sats = df.iloc[:,[1,6,8]]\n",
    "sats.loc[:,['Time']] = pd.to_datetime(sats.Time)\n",
    "print (round((((sats.Time[len(sats)-1] - sats.Time[0]).total_seconds())/60), 2),'Minutes')"
   ]
  },
  {
   "cell_type": "code",
   "execution_count": 22,
   "metadata": {},
   "outputs": [
    {
     "name": "stdout",
     "output_type": "stream",
     "text": [
      "Current index is:  Time\n"
     ]
    }
   ],
   "source": [
    "try:\n",
    "  sats = sats.set_index(['Time'])\n",
    "except:\n",
    "  print(\"Current index is: \", sats.index.name) "
   ]
  },
  {
   "cell_type": "code",
   "execution_count": 12,
   "metadata": {},
   "outputs": [
    {
     "data": {
      "image/png": "[encoded data removed]",
      "text/plain": [
       "<Figure size 1080x360 with 1 Axes>"
      ]
     },
     "metadata": {
      "needs_background": "light"
     },
     "output_type": "display_data"
    }
   ],
   "source": [
    "# sats = sats.set_index(['Time']) # enables Time on x-Axis\n",
    "ax = sats.plot(\n",
    "    figsize=(15,5),\n",
    "    subplots=False,\n",
    "    alpha=0.7)\n",
    "ax.set_yticks(np.arange(0, 21, 2))\n",
    "ax.set_yticks(np.arange(0, 21, 2))\n",
    "ax.grid(np.arange(0, 21, 2), alpha=0.4)\n",
    "ax.set_ylabel('Number of Satellites / Precision ')\n",
    "\n",
    "figure = ax.get_figure()    \n",
    "figure.savefig('time_series.png', dpi=400) "
   ]
  },
  {
   "cell_type": "code",
   "execution_count": 24,
   "metadata": {},
   "outputs": [],
   "source": [
    "# e.g. add mapbox://styles/innodesign/ckdasdj991htk1iqoeqs3wjdl \n",
    "with open('new_config.py', 'w') as f:\n",
    "   f.write('config = {}'.format(map_df.config))\n",
    "# load the config with following magic command \n",
    "# %run hex_config.py"
   ]
  },
  {
   "cell_type": "code",
   "execution_count": 25,
   "metadata": {},
   "outputs": [
    {
     "data": {
      "text/plain": [
       "{'version': 'v1',\n",
       " 'config': {'visState': {'filters': [],\n",
       "   'layers': [{'id': '5n82si',\n",
       "     'type': 'point',\n",
       "     'config': {'dataId': 'vienna_df',\n",
       "      'label': 'Point',\n",
       "      'color': [255, 203, 153],\n",
       "      'columns': {'lat': 'Latitude', 'lng': 'Longitude', 'altitude': None},\n",
       "      'isVisible': True,\n",
       "      'visConfig': {'radius': 10,\n",
       "       'fixedRadius': False,\n",
       "       'opacity': 0.86,\n",
       "       'outline': False,\n",
       "       'thickness': 2,\n",
       "       'strokeColor': None,\n",
       "       'colorRange': {'name': 'ColorBrewer RdYlGn-6',\n",
       "        'type': 'diverging',\n",
       "        'category': 'ColorBrewer',\n",
       "        'colors': ['#d73027',\n",
       "         '#fc8d59',\n",
       "         '#fee08b',\n",
       "         '#d9ef8b',\n",
       "         '#91cf60',\n",
       "         '#1a9850']},\n",
       "       'strokeColorRange': {'name': 'Global Warming',\n",
       "        'type': 'sequential',\n",
       "        'category': 'Uber',\n",
       "        'colors': ['#5A1846',\n",
       "         '#900C3F',\n",
       "         '#C70039',\n",
       "         '#E3611C',\n",
       "         '#F1920E',\n",
       "         '#FFC300']},\n",
       "       'radiusRange': [0, 20],\n",
       "       'filled': True},\n",
       "      'hidden': False,\n",
       "      'textLabel': [{'field': None,\n",
       "        'color': [255, 255, 255],\n",
       "        'size': 18,\n",
       "        'offset': [0, 0],\n",
       "        'anchor': 'start',\n",
       "        'alignment': 'center'}]},\n",
       "     'visualChannels': {'colorField': {'name': 'Sats', 'type': 'integer'},\n",
       "      'colorScale': 'quantize',\n",
       "      'strokeColorField': None,\n",
       "      'strokeColorScale': 'quantile',\n",
       "      'sizeField': {'name': 'Precision', 'type': 'real'},\n",
       "      'sizeScale': 'sqrt'}}],\n",
       "   'interactionConfig': {'tooltip': {'fieldsToShow': {'vienna_df': ['Date',\n",
       "       'Altitude',\n",
       "       'Precision']},\n",
       "     'enabled': True},\n",
       "    'brush': {'size': 0.5, 'enabled': False},\n",
       "    'geocoder': {'enabled': False},\n",
       "    'coordinate': {'enabled': False}},\n",
       "   'layerBlending': 'normal',\n",
       "   'splitMaps': [],\n",
       "   'animationConfig': {'currentTime': None, 'speed': 1}},\n",
       "  'mapState': {'bearing': 24,\n",
       "   'dragRotate': True,\n",
       "   'latitude': 48.22068729920424,\n",
       "   'longitude': 16.375344951840642,\n",
       "   'pitch': 50,\n",
       "   'zoom': 18.85977022935161,\n",
       "   'isSplit': False},\n",
       "  'mapStyle': {'styleType': 'muted',\n",
       "   'topLayerGroups': {},\n",
       "   'visibleLayerGroups': {'label': True,\n",
       "    'road': True,\n",
       "    'border': False,\n",
       "    'building': True,\n",
       "    'water': True,\n",
       "    'land': True,\n",
       "    '3d building': False},\n",
       "   'threeDBuildingColor': [224.4071295378559,\n",
       "    224.4071295378559,\n",
       "    224.4071295378559],\n",
       "   'mapStyles': {'4yioxqe': {'accessToken': 'pk.eyJ1IjoiaW5ub2Rlc2lnbiIsImEiOiJja2RhczJ1dXYwcWVzMnJtaXVocmJtYXI2In0.ECkesOEQeK1FIMl_va9IQg',\n",
       "     'custom': True,\n",
       "     'icon': 'https://api.mapbox.com/styles/v1/innodesign/ckdasdj991htk1iqoeqs3wjdl/static/-122.3391,37.7922,9,0,0/400x300?access_token=pk.eyJ1IjoiaW5ub2Rlc2lnbiIsImEiOiJja2RhczJ1dXYwcWVzMnJtaXVocmJtYXI2In0.ECkesOEQeK1FIMl_va9IQg&logo=false&attribution=false',\n",
       "     'id': '4yioxqe',\n",
       "     'label': 'Frank',\n",
       "     'url': 'mapbox://styles/innodesign/ckdasdj991htk1iqoeqs3wjdl'}}}}}"
      ]
     },
     "execution_count": 25,
     "metadata": {},
     "output_type": "execute_result"
    }
   ],
   "source": [
    "# https://docs.kepler.gl/docs/keplergl-jupyter#6-match-config-with-data\n",
    "config = map_df.config\n",
    "config"
   ]
  },
  {
   "cell_type": "code",
   "execution_count": 26,
   "metadata": {},
   "outputs": [
    {
     "name": "stdout",
     "output_type": "stream",
     "text": [
      "Map saved to index.html!\n"
     ]
    }
   ],
   "source": [
    "map_df.save_to_html(data={'vienna_df': df}, config=config, file_name='index.html')"
   ]
  },
  {
   "cell_type": "code",
   "execution_count": null,
   "metadata": {},
   "outputs": [],
   "source": []
  }
 ],
 "metadata": {
  "kernelspec": {
   "display_name": "kepler",
   "language": "python",
   "name": "kepler"
  },
  "language_info": {
   "codemirror_mode": {
    "name": "ipython",
    "version": 3
   },
   "file_extension": ".py",
   "mimetype": "text/x-python",
   "name": "python",
   "nbconvert_exporter": "python",
   "pygments_lexer": "ipython3",
   "version": "3.8.1"
  },
  "widgets": {
   "application/vnd.jupyter.widget-state+json": {
    "state": {},
    "version_major": 2,
    "version_minor": 0
   }
  }
 },
 "nbformat": 4,
 "nbformat_minor": 4
}
